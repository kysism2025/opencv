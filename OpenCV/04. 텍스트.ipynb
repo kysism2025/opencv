{
 "cells": [
  {
   "cell_type": "markdown",
   "id": "20177b84",
   "metadata": {},
   "source": [
    "## 한글"
   ]
  },
  {
   "cell_type": "code",
   "execution_count": 3,
   "id": "adec963c",
   "metadata": {},
   "outputs": [],
   "source": [
    "import cv2\n",
    "import numpy as np\n",
    "\n",
    "img = np.zeros((480,640,3), dtype = np.uint8)\n",
    "\n",
    "SCALE = 1 # 크기\n",
    "COLOR = (255,255,255) # 흰색\n",
    "THICKNESS = 1 # 두께\n",
    "\n",
    "cv2.putText(img, \"나도코딩\", (20, 5), cv2.FONT_HERSHEY_SIMPLEX, SCALE, COLOR, THICKNESS)\n",
    "# 그릴 위치, 텍스트 내용, 시작위치, 폰트종류, 크기, 색깔, 두께\n",
    "\n",
    "cv2.imshow('img', img)\n",
    "cv2.waitKey(0)\n",
    "cv2.destroyAllWindows()\n"
   ]
  },
  {
   "cell_type": "markdown",
   "id": "40679954",
   "metadata": {},
   "source": [
    "## 한글 우회 방법"
   ]
  },
  {
   "cell_type": "code",
   "execution_count": 6,
   "id": "489f89b6",
   "metadata": {},
   "outputs": [],
   "source": [
    "import cv2\n",
    "import numpy as np\n",
    "# PIL (Python Image Library)\n",
    "from PIL import ImageFont, ImageDraw, Image\n",
    "\n",
    "def myPutText(src, text, pos, font_size, font_color):\n",
    "    img_pil = Image.fromarray(src)\n",
    "    draw = ImageDraw.Draw(img_pil)\n",
    "    font = ImageFont.truetype('fonts/gulim.ttc', font_size)\n",
    "    draw.text(pos, text, font=font, fill=font_color)\n",
    "    return np.array(img_pil)\n",
    "\n",
    "img = np.zeros((480,640,3), dtype = np.uint8)\n",
    "\n",
    "FONT_SIZE = 30\n",
    "COLOR = (255,255,255) # 흰색\n",
    "\n",
    "# cv2.putText(img, \"나도코딩\", (20, 5), cv2.FONT_HERSHEY_SIMPLEX, SCALE, COLOR, THICKNESS)\n",
    "# 그릴 위치, 텍스트 내용, 시작위치, 폰트종류, 크기, 색깔, 두께\n",
    "img = myPutText(img, \"나도코딩\", (20,50), FONT_SIZE, COLOR)\n",
    "# 그릴 위치, 텍스트 내용, 시작위치, 폰트종류, 색깔\n",
    "\n",
    "cv2.imshow('img', img)\n",
    "cv2.waitKey(0)\n",
    "cv2.destroyAllWindows()"
   ]
  },
  {
   "cell_type": "code",
   "execution_count": null,
   "id": "60ea89ff",
   "metadata": {},
   "outputs": [],
   "source": []
  },
  {
   "cell_type": "code",
   "execution_count": null,
   "id": "24852305",
   "metadata": {},
   "outputs": [],
   "source": []
  },
  {
   "cell_type": "code",
   "execution_count": null,
   "id": "dca71f71",
   "metadata": {},
   "outputs": [],
   "source": []
  },
  {
   "cell_type": "code",
   "execution_count": null,
   "id": "3d0e82bf",
   "metadata": {},
   "outputs": [],
   "source": []
  }
 ],
 "metadata": {
  "kernelspec": {
   "display_name": "Python 3 (ipykernel)",
   "language": "python",
   "name": "python3"
  },
  "language_info": {
   "codemirror_mode": {
    "name": "ipython",
    "version": 3
   },
   "file_extension": ".py",
   "mimetype": "text/x-python",
   "name": "python",
   "nbconvert_exporter": "python",
   "pygments_lexer": "ipython3",
   "version": "3.9.13"
  }
 },
 "nbformat": 4,
 "nbformat_minor": 5
}
