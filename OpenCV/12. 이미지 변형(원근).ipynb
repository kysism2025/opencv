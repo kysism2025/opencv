{
 "cells": [
  {
   "cell_type": "markdown",
   "id": "beb5a7a9",
   "metadata": {},
   "source": [
    "# 12. 이미지 변형(원근)"
   ]
  },
  {
   "cell_type": "code",
   "execution_count": 7,
   "id": "9f3b9720",
   "metadata": {},
   "outputs": [],
   "source": [
    "import cv2\n",
    "import numpy as np\n",
    "\n",
    "img = cv2.imread('newspaper.jpg')\n",
    "\n",
    "width, height = 640, 240 # 가로크기 640, 세로크기 240으로 결과물 출력\n",
    "\n",
    "src = np.array([[511,352],[1008,345],[1122,584],[455,594]], dtype=np.float32) # input 4개 지정\n",
    "dst = np.array([[0,0],[width,0],[width, height],[0,height]], dtype=np.float32) # output 4개 지정\n",
    "# 좌상, 우상, 우하, 좌하 (시계방향으로 4지점 정의)\n",
    "\n",
    "matrix = cv2.getPerspectiveTransform(src, dst) # Matrix얻어옴\n",
    "result = cv2.warpPerspective(img, matrix, (width, height)) # Matrix대로 변환을 함\n",
    "\n",
    "cv2.imshow('img', img)\n",
    "cv2.imshow('result', result)\n",
    "cv2.waitKey(0)\n",
    "cv2.destroyAllWindows()"
   ]
  },
  {
   "cell_type": "markdown",
   "id": "a4bd6a11",
   "metadata": {},
   "source": [
    "## 회전된 이미지 올바로 세우기"
   ]
  },
  {
   "cell_type": "code",
   "execution_count": 2,
   "id": "c4cc411d",
   "metadata": {},
   "outputs": [],
   "source": [
    "import cv2\n",
    "import numpy as np\n",
    "\n",
    "img = cv2.imread('poker.jpg')\n",
    "\n",
    "width, height = 530, 710 \n",
    "\n",
    "src = np.array([[702,143],[1133,414],[726,1007],[276,700]], dtype=np.float32) # input 4개 지정\n",
    "dst = np.array([[0,0],[width,0],[width, height],[0,height]], dtype=np.float32) # output 4개 지정\n",
    "# 좌상, 우상, 우하, 좌하 (시계방향으로 4지점 정의)\n",
    "\n",
    "matrix = cv2.getPerspectiveTransform(src, dst) # Matrix얻어옴\n",
    "result = cv2.warpPerspective(img, matrix, (width, height)) # Matrix대로 변환을 함\n",
    "\n",
    "cv2.imshow('img', img)\n",
    "cv2.imshow('result', result)\n",
    "cv2.waitKey(0)\n",
    "cv2.destroyAllWindows()"
   ]
  },
  {
   "cell_type": "markdown",
   "id": "a48eb2e6",
   "metadata": {},
   "source": [
    "## 미니프로젝트 : 반자동 문서 스캐너"
   ]
  },
  {
   "cell_type": "markdown",
   "id": "63442fe7",
   "metadata": {},
   "source": [
    "### 마우스 이벤트 등록"
   ]
  },
  {
   "cell_type": "code",
   "execution_count": 12,
   "id": "0376254d",
   "metadata": {},
   "outputs": [
    {
     "name": "stdout",
     "output_type": "stream",
     "text": [
      "마우스 오른쪽버튼 DOWN\n",
      "마우스 왼쪽버튼 DOWN\n",
      "왼쪽 버튼 Down\n",
      "378 260\n",
      "왼쪽 버튼 Up\n",
      "378 260\n"
     ]
    }
   ],
   "source": [
    "import cv2\n",
    "\n",
    "def mouse_handler(event, x, y, flags, param):\n",
    "    if event == cv2.EVENT_LBUTTONDOWN: #마우스 왼쪽버튼 Down\n",
    "        print('왼쪽 버튼 Down')\n",
    "        print(x, y)\n",
    "    elif event == cv2.EVENT_LBUTTONUP: #마우스 왼쪽버튼 Up\n",
    "        print('왼쪽 버튼 Up')\n",
    "        print(x, y)\n",
    "    elif event == cv2.EVENT_LBUTTONDBLCLK: #마우스 왼쪽버튼 더블클릭\n",
    "         print('왼쪽 버튼 Double Click')\n",
    "   # elif event == cv2.EVENT_MOUSEMOVE: # 마우스 이동\n",
    "   #      print('마우스 이동')\n",
    "    elif event == cv2.EVENT_RBUTTONDOWN: # 마우스 오른쪽버튼 DOWN\n",
    "        print('마우스 오른쪽버튼 DOWN')\n",
    "    elif event == cv2.EVENT_RBUTTONUP: # 마우스 오른쪽버튼 DOWN\n",
    "        print('마우스 오른쪽버튼 DOWN')\n",
    "\n",
    "\n",
    "img = cv2.imread('poker.jpg')\n",
    "cv2.namedWindow('img') # img란 이름의 윈도우를 먼저 만들어 두는 것. 여기에 마우스 이벤트를 처리하기 위한 핸들러 적용\n",
    "cv2.setMouseCallback('img', mouse_handler)\n",
    "cv2.imshow('img', img)\n",
    "cv2.waitKey(0)\n",
    "cv2.destroyAllWindows()"
   ]
  },
  {
   "cell_type": "markdown",
   "id": "8374f7a8",
   "metadata": {},
   "source": [
    "## 프로젝트"
   ]
  },
  {
   "cell_type": "code",
   "execution_count": 7,
   "id": "61141fca",
   "metadata": {},
   "outputs": [],
   "source": [
    "import cv2\n",
    "import numpy as np\n",
    "\n",
    "point_list = []\n",
    "src_img = cv2.imread('poker.jpg')\n",
    "\n",
    "COLOR = (255,0,255)\n",
    "\n",
    "def mouse_handler(event, x, y, flags, param):\n",
    "    if event == cv2.EVENT_LBUTTONDOWN: # 마우스 왼쪽 버튼 DOWN\n",
    "        point_list.append((x, y))\n",
    "        print(x, y)\n",
    "        \n",
    "    # 사각형 표시할 점 표시\n",
    "    for point in point_list:\n",
    "        cv2.circle(src_img, point, 15, COLOR, cv2.FILLED)\n",
    "        \n",
    "    if len(point_list) == 4:  # 4개의 점을 얻어낸후 이미지 표시\n",
    "        show_result() # 결과 출력\n",
    "        \n",
    "    cv2.imshow('img', src_img)\n",
    "    \n",
    "def show_result():\n",
    "    width, height = 530, 710 \n",
    "\n",
    "    src = np.float32(point_list)\n",
    "    dst = np.array([[0,0],[width,0],[width, height],[0,height]], dtype=np.float32) # output 4개 지정\n",
    "    # 좌상, 우상, 우하, 좌하 (시계방향으로 4지점 정의)\n",
    "\n",
    "    matrix = cv2.getPerspectiveTransform(src, dst) # Matrix얻어옴\n",
    "    result = cv2.warpPerspective(src_img, matrix, (width, height)) # Matrix대로 변환을 함 \n",
    "    cv2.imshow('result', result)\n",
    "    \n",
    "    \n",
    "cv2.namedWindow('img')    \n",
    "cv2.setMouseCallback('img', mouse_handler)\n",
    "cv2.imshow('img', src_img)\n",
    "cv2.waitKey(0)\n",
    "cv2.destroyAllWindows()"
   ]
  },
  {
   "cell_type": "code",
   "execution_count": null,
   "id": "e40764ec",
   "metadata": {},
   "outputs": [],
   "source": []
  },
  {
   "cell_type": "code",
   "execution_count": null,
   "id": "1738547f",
   "metadata": {},
   "outputs": [],
   "source": []
  },
  {
   "cell_type": "code",
   "execution_count": null,
   "id": "e48c6321",
   "metadata": {},
   "outputs": [],
   "source": []
  }
 ],
 "metadata": {
  "kernelspec": {
   "display_name": "Python 3 (ipykernel)",
   "language": "python",
   "name": "python3"
  },
  "language_info": {
   "codemirror_mode": {
    "name": "ipython",
    "version": 3
   },
   "file_extension": ".py",
   "mimetype": "text/x-python",
   "name": "python",
   "nbconvert_exporter": "python",
   "pygments_lexer": "ipython3",
   "version": "3.9.13"
  }
 },
 "nbformat": 4,
 "nbformat_minor": 5
}
